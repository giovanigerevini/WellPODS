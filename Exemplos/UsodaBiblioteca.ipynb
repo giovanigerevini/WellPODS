{
 "cells": [
  {
   "cell_type": "markdown",
   "id": "620bac61",
   "metadata": {},
   "source": [
    "# Exemplos"
   ]
  },
  {
   "cell_type": "markdown",
   "id": "3c5aeba1",
   "metadata": {},
   "source": [
    "## Constrindo primeiro modelo"
   ]
  },
  {
   "cell_type": "markdown",
   "id": "f3b92748",
   "metadata": {},
   "source": [
    "<img src=\"../Img/blocos_ResGL-Well-Process.png\" alt=\"Modelo ResGL-Well-Process\" width=\"600\">"
   ]
  },
  {
   "cell_type": "code",
   "execution_count": 15,
   "id": "cbbf6594",
   "metadata": {},
   "outputs": [],
   "source": [
    "import sys\n",
    "sys.path.append('..')  # adiciona a pasta que contém WellPODS no path\n",
    "\n",
    "import WellPODS.well.bibgolfadas as well\n",
    "import WellPODS.reservoir.Reservoir as res\n",
    "import WellPODS.gaslift.GasLiftSupply as gl\n",
    "import WellPODS.process.Process as proc"
   ]
  },
  {
   "cell_type": "code",
   "execution_count": 16,
   "id": "5774d36d",
   "metadata": {},
   "outputs": [],
   "source": [
    "# Passo 1: Definir os parâmetros do poço\n",
    "import numpy as np\n",
    "well_params = {\n",
    "    'ALFAgw': 0.0188,\n",
    "    'D': 0.152,\n",
    "    'Da': 0.140,\n",
    "    'Dt': 0.150,\n",
    "    'g': 9.81,\n",
    "    'Hpdg': 1117,\n",
    "    'Ht': 1279,\n",
    "    'Hvgl': 916,\n",
    "    'L': 4497,\n",
    "    'La': 1118,\n",
    "    'Lt': 1639,\n",
    "    'M': 18.0,\n",
    "    'R': 8314,\n",
    "    'Rol': 899.996,\n",
    "    'Romres': 891.9523,\n",
    "    'teta': np.pi / 4,\n",
    "    'T': 298,\n",
    "    'mlstill': 7.1098207999143210e+02,\n",
    "    'Cg': 2.3460789880222731e-05,\n",
    "    'Cout': 5.8137935670717683e-03,\n",
    "    'Veb': 9.0159519351419036e+01,\n",
    "    'Epsilon': 3.5822558226225404e-02,\n",
    "    'Kw': 1.0212053760436238e-03,\n",
    "    'Ka': 1.7666249329670688e-04,\n",
    "    'Kr': 2.4671647300003357e+02,\n",
    "    'Vr': 4497*np.pi*0.1524*0.1524/4,\n",
    "    'ssp0': [8912.57167477, 2222.72000107, 20819.60180571, 2193.67929049, 1425.20603112,13349.50962993],\n",
    "    'Ck0': 5,\n",
    "    'GL0': 1.65e5,  # Gaslift inflow [m³/d]\n",
    "    'Ps0' : 1013250,  # Separator pressure [Pa]\n",
    "    'Pr0' : 22500000, # Reservoir Pressure [Pa]\n",
    "}\n",
    "\n",
    "# Passo 2: Inicializar o poço\n",
    "poço = well.Well()\n"
   ]
  },
  {
   "cell_type": "code",
   "execution_count": 17,
   "id": "438dfc78",
   "metadata": {},
   "outputs": [],
   "source": [
    "poço.adicionar_modelo(nome_modelo='FOWM_exemple', modelo_tipo='FOWM', params=well_params)\n"
   ]
  },
  {
   "cell_type": "code",
   "execution_count": null,
   "id": "c99b7c45",
   "metadata": {},
   "outputs": [
    {
     "ename": "TypeError",
     "evalue": "'module' object is not callable",
     "output_type": "error",
     "traceback": [
      "\u001b[1;31m---------------------------------------------------------------------------\u001b[0m",
      "\u001b[1;31mTypeError\u001b[0m                                 Traceback (most recent call last)",
      "Cell \u001b[1;32mIn[20], line 1\u001b[0m\n\u001b[1;32m----> 1\u001b[0m \u001b[43mgl\u001b[49m\u001b[43m(\u001b[49m\u001b[43m)\u001b[49m\n",
      "\u001b[1;31mTypeError\u001b[0m: 'module' object is not callable"
     ]
    }
   ],
   "source": [
    "gl."
   ]
  },
  {
   "cell_type": "code",
   "execution_count": 18,
   "id": "f0880477",
   "metadata": {},
   "outputs": [
    {
     "ename": "TypeError",
     "evalue": "'module' object is not callable",
     "output_type": "error",
     "traceback": [
      "\u001b[1;31m---------------------------------------------------------------------------\u001b[0m",
      "\u001b[1;31mTypeError\u001b[0m                                 Traceback (most recent call last)",
      "Cell \u001b[1;32mIn[18], line 2\u001b[0m\n\u001b[0;32m      1\u001b[0m \u001b[38;5;66;03m# Parâmetros de simulação\u001b[39;00m\n\u001b[1;32m----> 2\u001b[0m GL \u001b[38;5;241m=\u001b[39m \u001b[43mgl\u001b[49m\u001b[43m(\u001b[49m\u001b[38;5;241;43m1.65e5\u001b[39;49m\u001b[43m)\u001b[49m  \u001b[38;5;66;03m# Gaslift inflow [m³/d]\u001b[39;00m\n\u001b[0;32m      3\u001b[0m fat_Wgc \u001b[38;5;241m=\u001b[39m \u001b[38;5;241m101325\u001b[39m \u001b[38;5;241m*\u001b[39m well_params[\u001b[38;5;124m'\u001b[39m\u001b[38;5;124mM\u001b[39m\u001b[38;5;124m'\u001b[39m] \u001b[38;5;241m/\u001b[39m (\u001b[38;5;241m293\u001b[39m \u001b[38;5;241m*\u001b[39m well_params[\u001b[38;5;124m'\u001b[39m\u001b[38;5;124mR\u001b[39m\u001b[38;5;124m'\u001b[39m]) \u001b[38;5;241m/\u001b[39m \u001b[38;5;241m3600\u001b[39m \u001b[38;5;241m/\u001b[39m \u001b[38;5;241m24\u001b[39m\n\u001b[0;32m      4\u001b[0m Wgc \u001b[38;5;241m=\u001b[39m GL \u001b[38;5;241m*\u001b[39m fat_Wgc \u001b[38;5;66;03m# Gaslift inflow [kg/s]\u001b[39;00m\n",
      "\u001b[1;31mTypeError\u001b[0m: 'module' object is not callable"
     ]
    }
   ],
   "source": [
    "# Parâmetros de simulação\n",
    "GL = gl(1.65e5)  # Gaslift inflow [m³/d]\n",
    "fat_Wgc = 101325 * well_params['M'] / (293 * well_params['R']) / 3600 / 24\n",
    "Wgc = GL * fat_Wgc # Gaslift inflow [kg/s]\n",
    "Ps = proc(1013250)  # Separator pressure [Pa]\n",
    "Pr = res(2.25e7)   # Reservoir Pressure [Pa]\n",
    "\n"
   ]
  },
  {
   "cell_type": "code",
   "execution_count": null,
   "id": "4d372855",
   "metadata": {},
   "outputs": [],
   "source": []
  }
 ],
 "metadata": {
  "kernelspec": {
   "display_name": "SlugmonBR",
   "language": "python",
   "name": "python3"
  },
  "language_info": {
   "codemirror_mode": {
    "name": "ipython",
    "version": 3
   },
   "file_extension": ".py",
   "mimetype": "text/x-python",
   "name": "python",
   "nbconvert_exporter": "python",
   "pygments_lexer": "ipython3",
   "version": "3.9.19"
  }
 },
 "nbformat": 4,
 "nbformat_minor": 5
}
